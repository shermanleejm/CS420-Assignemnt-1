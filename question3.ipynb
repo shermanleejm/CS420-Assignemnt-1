{
 "cells": [
  {
   "cell_type": "code",
   "execution_count": 53,
   "metadata": {},
   "outputs": [],
   "source": [
    "from pgmpy.models import BayesianNetwork\n",
    "from pgmpy.inference import VariableElimination\n",
    "from pgmpy.factors.discrete import TabularCPD"
   ]
  },
  {
   "cell_type": "code",
   "execution_count": 54,
   "metadata": {},
   "outputs": [],
   "source": [
    "SMOKING = \"smoking\"\n",
    "YELLOW_FINGERS = \"yellow fingers\"\n",
    "CANCER = \"cancer\"\n",
    "SOLAR_FLARES = \"solar flares\"\n",
    "MICROWAVE = \"microwave\"\n",
    "RADIATION = \"radiation\"\n",
    "SKIN_BURN = \"skin burn\"\n",
    "\n",
    "q3_model = BayesianNetwork(\n",
    "    [\n",
    "        (SMOKING, YELLOW_FINGERS),\n",
    "        (SMOKING, CANCER),\n",
    "        (SOLAR_FLARES, RADIATION),\n",
    "        (MICROWAVE, RADIATION),\n",
    "        (RADIATION, CANCER),\n",
    "        (RADIATION, SKIN_BURN),\n",
    "    ]\n",
    ")\n"
   ]
  },
  {
   "cell_type": "code",
   "execution_count": 55,
   "metadata": {},
   "outputs": [
    {
     "name": "stderr",
     "output_type": "stream",
     "text": [
      "Finding Elimination Order: : 100%|██████████| 4/4 [00:08<00:00,  2.21s/it]\n",
      "Finding Elimination Order: : 100%|██████████| 3/3 [00:08<00:00,  2.86s/it]\n"
     ]
    }
   ],
   "source": [
    "cpd_smoking = TabularCPD(variable=SMOKING, variable_card=2, values=[[0.9], [0.1]])\n",
    "\n",
    "cpd_solar_flares = TabularCPD(\n",
    "    variable=SOLAR_FLARES, variable_card=2, values=[[0.999], [0.001]]\n",
    ")\n",
    "\n",
    "cpd_microwave = TabularCPD(\n",
    "    variable=MICROWAVE, variable_card=2, values=[[0.001], [0.999]]\n",
    ")\n",
    "\n",
    "cpd_skin_burn = TabularCPD(\n",
    "    variable=SKIN_BURN,\n",
    "    variable_card=2,\n",
    "    values=[[0.01, 0.1], [0.99, 0.9]],\n",
    "    evidence=[RADIATION],\n",
    "    evidence_card=[2],\n",
    ")\n",
    "\n",
    "cpd_radiation = TabularCPD(\n",
    "    variable=RADIATION,\n",
    "    variable_card=2,\n",
    "    values=[[0.01, 0.2, 0.3, 0.5], [0.99, 0.8, 0.7, 0.5]],\n",
    "    evidence=[SOLAR_FLARES, MICROWAVE],\n",
    "    evidence_card=[2, 2],\n",
    ")\n",
    "\n",
    "cpd_cancer = TabularCPD(\n",
    "    variable=CANCER,\n",
    "    variable_card=2,\n",
    "    values=[[0.1, 0.6, 0.2, 0.9], [0.9, 0.4, 0.8, 0.1]],\n",
    "    evidence=[SMOKING, RADIATION],\n",
    "    evidence_card=[2, 2],\n",
    ")\n",
    "\n",
    "cpd_yellow_fingers = TabularCPD(\n",
    "    variable=YELLOW_FINGERS,\n",
    "    variable_card=2,\n",
    "    values=[[0.1, 0.9], [0.9, 0.1]],\n",
    "    evidence=[SMOKING],\n",
    "    evidence_card=[2],\n",
    ")\n"
   ]
  },
  {
   "cell_type": "code",
   "execution_count": 56,
   "metadata": {},
   "outputs": [
    {
     "data": {
      "text/plain": [
       "True"
      ]
     },
     "execution_count": 56,
     "metadata": {},
     "output_type": "execute_result"
    }
   ],
   "source": [
    "q3_model.add_cpds(\n",
    "    cpd_smoking,\n",
    "    cpd_solar_flares,\n",
    "    cpd_microwave,\n",
    "    cpd_skin_burn,\n",
    "    cpd_radiation,\n",
    "    cpd_cancer,\n",
    "    cpd_yellow_fingers,\n",
    ")\n",
    "\n",
    "q3_model.check_model()"
   ]
  },
  {
   "cell_type": "code",
   "execution_count": 57,
   "metadata": {},
   "outputs": [
    {
     "data": {
      "image/png": "[encoded data removed]",
      "text/plain": [
       "<Figure size 432x288 with 1 Axes>"
      ]
     },
     "metadata": {},
     "output_type": "display_data"
    }
   ],
   "source": [
    "# Plotting\n",
    "import networkx as nx\n",
    "import pylab as plt\n",
    "\n",
    "nx.draw(q3_model, with_labels=True, pos=nx.spring_layout(q3_model))\n",
    "plt.show()\n"
   ]
  },
  {
   "cell_type": "code",
   "execution_count": 58,
   "metadata": {},
   "outputs": [],
   "source": [
    "# generate inference\n",
    "q3_infer = VariableElimination(q3_model)\n"
   ]
  },
  {
   "cell_type": "code",
   "execution_count": 59,
   "metadata": {},
   "outputs": [
    {
     "name": "stderr",
     "output_type": "stream",
     "text": [
      "Eliminating: microwave: 100%|██████████| 3/3 [00:00<00:00, 330.03it/s]"
     ]
    },
    {
     "name": "stdout",
     "output_type": "stream",
     "text": [
      "+--------------+------------------+\n",
      "| radiation    |   phi(radiation) |\n",
      "+==============+==================+\n",
      "| radiation(0) |           0.3757 |\n",
      "+--------------+------------------+\n",
      "| radiation(1) |           0.6243 |\n",
      "+--------------+------------------+\n"
     ]
    },
    {
     "name": "stderr",
     "output_type": "stream",
     "text": [
      "\n"
     ]
    }
   ],
   "source": [
    "print(q3_infer.query(variables=[RADIATION], evidence={CANCER: 1}))"
   ]
  },
  {
   "cell_type": "code",
   "execution_count": 60,
   "metadata": {},
   "outputs": [
    {
     "name": "stderr",
     "output_type": "stream",
     "text": [
      "Finding Elimination Order: : 100%|██████████| 3/3 [00:00<00:00, 19.38it/s]\n",
      "Eliminating: radiation: 100%|██████████| 4/4 [00:00<00:00, 350.61it/s]"
     ]
    },
    {
     "name": "stdout",
     "output_type": "stream",
     "text": [
      "+-----------+---------------+\n",
      "| cancer    |   phi(cancer) |\n",
      "+===========+===============+\n",
      "| cancer(0) |        0.5178 |\n",
      "+-----------+---------------+\n",
      "| cancer(1) |        0.4822 |\n",
      "+-----------+---------------+\n"
     ]
    },
    {
     "name": "stderr",
     "output_type": "stream",
     "text": [
      "\n"
     ]
    }
   ],
   "source": [
    "print(q3_infer.query(variables=[CANCER], evidence={SKIN_BURN: 1}))"
   ]
  },
  {
   "cell_type": "code",
   "execution_count": 61,
   "metadata": {},
   "outputs": [
    {
     "name": "stdout",
     "output_type": "stream",
     "text": [
      "(solar flares ⟂ smoking, microwave, yellow fingers)\n",
      "---------------------------------------------------------------------------\n",
      "(smoking ⟂ microwave, solar flares, skin burn, radiation)\n"
     ]
    }
   ],
   "source": [
    "print(q3_model.local_independencies(SOLAR_FLARES))\n",
    "print(\"-\" * 75)\n",
    "print(q3_model.local_independencies(SMOKING))"
   ]
  },
  {
   "cell_type": "code",
   "execution_count": 62,
   "metadata": {},
   "outputs": [
    {
     "name": "stderr",
     "output_type": "stream",
     "text": [
      "\n",
      "\u001b[A\n",
      "\u001b[A\n",
      "\u001b[A\n",
      "Eliminating: radiation: 100%|██████████| 3/3 [00:00<00:00, 304.32it/s]\n"
     ]
    },
    {
     "name": "stdout",
     "output_type": "stream",
     "text": [
      "+-----------+---------------+\n",
      "| cancer    |   phi(cancer) |\n",
      "+===========+===============+\n",
      "| cancer(0) |        0.6246 |\n",
      "+-----------+---------------+\n",
      "| cancer(1) |        0.3754 |\n",
      "+-----------+---------------+\n"
     ]
    }
   ],
   "source": [
    "print(q3_infer.query(variables=[CANCER], evidence={MICROWAVE: 0}))"
   ]
  },
  {
   "cell_type": "code",
   "execution_count": null,
   "metadata": {},
   "outputs": [],
   "source": []
  }
 ],
 "metadata": {
  "interpreter": {
   "hash": "767d51c1340bd893661ea55ea3124f6de3c7a262a8b4abca0554b478b1e2ff90"
  },
  "kernelspec": {
   "display_name": "Python 2.7.16 64-bit",
   "language": "python",
   "name": "python3"
  },
  "language_info": {
   "codemirror_mode": {
    "name": "ipython",
    "version": 3
   },
   "file_extension": ".py",
   "mimetype": "text/x-python",
   "name": "python",
   "nbconvert_exporter": "python",
   "pygments_lexer": "ipython3",
   "version": "3.9.8"
  },
  "orig_nbformat": 4
 },
 "nbformat": 4,
 "nbformat_minor": 2
}
