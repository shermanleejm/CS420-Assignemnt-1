{
 "cells": [
  {
   "cell_type": "code",
   "execution_count": 36,
   "metadata": {},
   "outputs": [
    {
     "data": {
      "text/plain": [
       "<function tensorflow.python.autograph.impl.api.do_not_convert(func=None)>"
      ]
     },
     "execution_count": 36,
     "metadata": {},
     "output_type": "execute_result"
    }
   ],
   "source": [
    "import numpy as np\n",
    "\n",
    "import tensorflow as tf\n",
    "\n",
    "tf.autograph.set_verbosity(0)\n",
    "tf.autograph.experimental.do_not_convert()\n"
   ]
  },
  {
   "cell_type": "code",
   "execution_count": 37,
   "metadata": {},
   "outputs": [],
   "source": [
    "## download and load data\n",
    "from keras.datasets import mnist\n",
    "\n",
    "(X_train, y_train), (X_test, y_test) = mnist.load_data()\n"
   ]
  },
  {
   "cell_type": "code",
   "execution_count": 38,
   "metadata": {},
   "outputs": [],
   "source": [
    "## reshape images to 1-dimensional array\n",
    "X_test = X_test.reshape(X_test.shape[0], X_test.shape[1] * X_test.shape[2])\n",
    "X_train = X_train.reshape(X_train.shape[0], X_train.shape[1] * X_train.shape[2])"
   ]
  },
  {
   "cell_type": "code",
   "execution_count": 39,
   "metadata": {},
   "outputs": [
    {
     "name": "stdout",
     "output_type": "stream",
     "text": [
      "[ True  True  True  True  True  True  True  True  True  True]\n",
      "True\n"
     ]
    }
   ],
   "source": [
    "## check if labels are same size and contain same values\n",
    "print(np.unique(y_train) == np.unique(y_test))\n",
    "print(len(np.unique(y_train)) == len(np.unique(y_test)))\n"
   ]
  },
  {
   "cell_type": "code",
   "execution_count": 40,
   "metadata": {},
   "outputs": [
    {
     "name": "stdout",
     "output_type": "stream",
     "text": [
      "Model: \"sequential_2\"\n",
      "_________________________________________________________________\n",
      "Layer (type)                 Output Shape              Param #   \n",
      "=================================================================\n",
      "dense_4 (Dense)              (None, 256)               200960    \n",
      "_________________________________________________________________\n",
      "dense_5 (Dense)              (None, 10)                2570      \n",
      "=================================================================\n",
      "Total params: 203,530\n",
      "Trainable params: 203,530\n",
      "Non-trainable params: 0\n",
      "_________________________________________________________________\n",
      "\n",
      "Accuracy:       95.54%\n",
      "F1 Score:       0.95576\n",
      "ROC AUC Score:  0.99631\n",
      "Total Loss:     0.51328\n",
      "\n"
     ]
    }
   ],
   "source": [
    "from sklearn.metrics import f1_score, roc_auc_score\n",
    "from keras.models import Sequential\n",
    "from keras.layers import Dense\n",
    "\n",
    "model = Sequential()\n",
    "\n",
    "layers = [\n",
    "    Dense(\n",
    "        input_dim=X_train.shape[1],\n",
    "        units=256,\n",
    "        kernel_initializer=\"uniform\",\n",
    "        activation=\"relu\",\n",
    "    ),\n",
    "    Dense(units=10, kernel_initializer=\"uniform\", activation=\"softmax\"),\n",
    "]\n",
    "for layer in layers:\n",
    "    model.add(layer)\n",
    "\n",
    "model.compile(\n",
    "    optimizer=\"adam\", loss=\"sparse_categorical_crossentropy\", metrics=[\"accuracy\"]\n",
    ")\n",
    "\n",
    "model.summary()\n",
    "\n",
    "model_history = model.fit(X_train, y_train, epochs=25, verbose=0)\n",
    "\n",
    "test_loss = model.evaluate(X_test, y_test, verbose=0)\n",
    "y_pred = np.argmax(model.predict(X_test), axis=-1)\n",
    "f1 = f1_score(y_test, y_pred, average=\"weighted\")\n",
    "y_pred_prob = model.predict(X_test)\n",
    "roc = roc_auc_score(y_test, y_pred_prob, multi_class=\"ovo\")\n",
    "\n",
    "print(\n",
    "    f\"\"\"\n",
    "Accuracy:       {round(test_loss[1] * 100, 5)}%\n",
    "F1 Score:       {round(f1, 5)}\n",
    "ROC AUC Score:  {round(roc, 5)}\n",
    "Total Loss:     {round(test_loss[0], 5)}\n",
    "\"\"\"\n",
    ")\n"
   ]
  },
  {
   "cell_type": "code",
   "execution_count": 49,
   "metadata": {},
   "outputs": [
    {
     "data": {
      "image/png": "[encoded data removed]",
      "text/plain": [
       "<Figure size 432x288 with 1 Axes>"
      ]
     },
     "metadata": {
      "needs_background": "light"
     },
     "output_type": "display_data"
    }
   ],
   "source": [
    "import matplotlib.pyplot as plt\n",
    "\n",
    "loss_arr = model_history.history[\"loss\"]\n",
    "plt.plot(loss_arr)\n",
    "plt.title(\"Loss\")\n",
    "plt.ylabel(\"loss\")\n",
    "plt.xlabel(\"epoch\")\n",
    "plt.legend(['train'], loc='upper right')\n",
    "plt.show()\n"
   ]
  },
  {
   "cell_type": "code",
   "execution_count": 56,
   "metadata": {},
   "outputs": [
    {
     "name": "stdout",
     "output_type": "stream",
     "text": [
      "Accuracy for 0: 97.245%\n",
      "Accuracy for 1: 98.15%\n",
      "Accuracy for 2: 94.864%\n",
      "Accuracy for 3: 94.653%\n",
      "Accuracy for 4: 94.705%\n",
      "Accuracy for 5: 92.152%\n",
      "Accuracy for 6: 96.555%\n",
      "Accuracy for 7: 96.012%\n",
      "Accuracy for 8: 96.509%\n",
      "Accuracy for 9: 93.954%\n"
     ]
    }
   ],
   "source": [
    "total = {x: {\"total\": 0, \"count\": 0} for x in range(10)}\n",
    "for i in range(len(y_pred)):\n",
    "    c = y_test[i]\n",
    "    if y_pred[i] == y_test[i]:\n",
    "        total[c][\"count\"] += 1\n",
    "    total[c][\"total\"] += 1\n",
    "\n",
    "for k, v in total.items():\n",
    "    print(f\"Accuracy for {k}: {round(v['count'] / v['total'] * 100, 3)}%\")\n"
   ]
  }
 ],
 "metadata": {
  "interpreter": {
   "hash": "aee8b7b246df8f9039afb4144a1f6fd8d2ca17a180786b69acc140d282b71a49"
  },
  "kernelspec": {
   "display_name": "Python 3.9.8 64-bit",
   "language": "python",
   "name": "python3"
  },
  "language_info": {
   "codemirror_mode": {
    "name": "ipython",
    "version": 3
   },
   "file_extension": ".py",
   "mimetype": "text/x-python",
   "name": "python",
   "nbconvert_exporter": "python",
   "pygments_lexer": "ipython3",
   "version": "3.9.8"
  },
  "orig_nbformat": 4
 },
 "nbformat": 4,
 "nbformat_minor": 2
}
